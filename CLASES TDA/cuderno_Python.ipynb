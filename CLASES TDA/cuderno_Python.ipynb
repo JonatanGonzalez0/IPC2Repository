{
  "nbformat": 4,
  "nbformat_minor": 0,
  "metadata": {
    "colab": {
      "name": "Untitled0.ipynb",
      "provenance": [],
      "collapsed_sections": [],
      "authorship_tag": "ABX9TyNaTnf5e0KTqGaCTsYDXjX8",
      "include_colab_link": true
    },
    "kernelspec": {
      "name": "python3",
      "display_name": "Python 3"
    }
  },
  "cells": [
    {
      "cell_type": "markdown",
      "metadata": {
        "id": "view-in-github",
        "colab_type": "text"
      },
      "source": [
        "<a href=\"https://colab.research.google.com/github/JonatanGonzalez0/IPC2Repository/blob/master/cuderno_Python.ipynb\" target=\"_parent\"><img src=\"https://colab.research.google.com/assets/colab-badge.svg\" alt=\"Open In Colab\"/></a>"
      ]
    },
    {
      "cell_type": "code",
      "metadata": {
        "id": "fl5kCIeGq5LR"
      },
      "source": [
        "class cliente:\r\n",
        "  def __init__(self,nombre,no_habitacion):\r\n",
        "    self.nombre = nombre\r\n",
        "    self.no_habitacion = no_habitacion"
      ],
      "execution_count": 1,
      "outputs": []
    },
    {
      "cell_type": "code",
      "metadata": {
        "id": "npfXvc0wriTv"
      },
      "source": [
        "class node:\r\n",
        "  def __init__(self,cliente=None,next = None):\r\n",
        "    self.cliente = cliente\r\n",
        "    self.next = next"
      ],
      "execution_count": 2,
      "outputs": []
    },
    {
      "cell_type": "code",
      "metadata": {
        "id": "_R31l3QxtEXp"
      },
      "source": [
        "class linked_list:\r\n",
        "  def __init__(self):\r\n",
        "    self.head = None\r\n",
        "\r\n",
        "  def insertar(self,cliente):\r\n",
        "    if not self.head:\r\n",
        "      self.head = node(cliente=cliente)\r\n",
        "      return\r\n",
        "    current = self.head  \r\n",
        "    while current.next:\r\n",
        "      current= current.next\r\n",
        "    current.next = node(cliente=cliente)\r\n",
        "\r\n",
        "  def imprimir(self):\r\n",
        "    node = self.head\r\n",
        "    while node!=None:\r\n",
        "      print(node.cliente.nombre,end=\" => \")\r\n",
        "      node = node.next  \r\n",
        "  def eliminar(self,no_habitacion):\r\n",
        "    current = self.head\r\n",
        "    previous = None\r\n",
        "\r\n",
        "    while current and current.cliente.no_habitacion !=no_habitacion:\r\n",
        "      previous = current\r\n",
        "      current = current.next\r\n",
        "\r\n",
        "      if previous is None:\r\n",
        "        self.head = current.next\r\n",
        "      elif current:\r\n",
        "        previous.next = current.next\r\n",
        "        current.next =  None"
      ],
      "execution_count": 3,
      "outputs": []
    },
    {
      "cell_type": "code",
      "metadata": {
        "colab": {
          "base_uri": "https://localhost:8080/"
        },
        "id": "qxRX_YXvuHLu",
        "outputId": "e99bf43a-612f-42b2-bbc0-a2b02e319115"
      },
      "source": [
        "c1 = cliente(\"Estuardo Zapeta\",101)\r\n",
        "c2 = cliente(\"Marco Lopez\",102)\r\n",
        "c3 = cliente(\"Josue Armas\",103)\r\n",
        "c4 = cliente(\"Gladys Olmos\",302)\r\n",
        "\r\n",
        "lista = linked_list()\r\n",
        "lista.insertar(c1)\r\n",
        "lista.insertar(c2)\r\n",
        "lista.insertar(c3)\r\n",
        "lista.insertar(c4)\r\n",
        "lista.imprimir()"
      ],
      "execution_count": 4,
      "outputs": [
        {
          "output_type": "stream",
          "text": [
            "Estuardo Zapeta => Marco Lopez => Josue Armas => Gladys Olmos => "
          ],
          "name": "stdout"
        }
      ]
    },
    {
      "cell_type": "markdown",
      "metadata": {
        "id": "bxs9NKZOv71n"
      },
      "source": [
        "**Listas Circulares**"
      ]
    },
    {
      "cell_type": "code",
      "metadata": {
        "id": "r4V8QtLE0ZiY"
      },
      "source": [
        "class linked_list_circular:\r\n",
        "  def __init__ (self,head=None):\r\n",
        "    self.head = head\r\n",
        "    self.size = 0\r\n",
        "\r\n",
        "  def insertar(self,cliente):\r\n",
        "    if self.size == 0 :\r\n",
        "      self.head = node(cliente = cliente)\r\n",
        "      self.head.next = self.head\r\n",
        "    else:\r\n",
        "      new_node = node(cliente=cliente,next = self.head.next)\r\n",
        "      self.head.next = new_node\r\n",
        "    self.size += 1\r\n",
        "\r\n",
        "  def imprimir(self):\r\n",
        "    if self is None:\r\n",
        "      return\r\n",
        "\r\n",
        "    node = self.head\r\n",
        "    print(node.cliente.nombre, end=\" -> \")\r\n",
        "\r\n",
        "    while node.next != self.head:\r\n",
        "      node = node.next\r\n",
        "      print(node.cliente.nombre,end=\" -> \")\r\n",
        "  \r\n",
        "  def eliminar(self,no_habitacion):\r\n",
        "    node = self.head\r\n",
        "    previous = None\r\n",
        "\r\n",
        "    while True:\r\n",
        "      if node.cliente.no_habitacion == no_habitacion:\r\n",
        "        if previous is not None:\r\n",
        "          previous.next = node.next\r\n",
        "        else:\r\n",
        "          while node.next != self.head:\r\n",
        "            node = node.next\r\n",
        "          node.next  = self.head.next\r\n",
        "          self.head = self.head.next\r\n",
        "        self.size += 1\r\n",
        "        return True\r\n",
        "      elif node.next == self.head:\r\n",
        "        return False\r\n",
        "\r\n",
        "      \r\n",
        "      previous = node\r\n",
        "      node = node.next\r\n"
      ],
      "execution_count": 5,
      "outputs": []
    },
    {
      "cell_type": "code",
      "metadata": {
        "colab": {
          "base_uri": "https://localhost:8080/"
        },
        "id": "BEoXTkuu2Tmc",
        "outputId": "c412a5fc-e799-4d27-f681-e38bb0163ae0"
      },
      "source": [
        "list_c = linked_list_circular()\r\n",
        "\r\n",
        "list_c.insertar(c1)\r\n",
        "list_c.insertar(c2)\r\n",
        "list_c.insertar(c3)\r\n",
        "list_c.insertar(c4)\r\n",
        "\r\n",
        "list_c.eliminar(102)\r\n",
        "list_c.imprimir()\r\n",
        "\r\n",
        "\r\n"
      ],
      "execution_count": 6,
      "outputs": [
        {
          "output_type": "stream",
          "text": [
            "Estuardo Zapeta -> Gladys Olmos -> Josue Armas -> "
          ],
          "name": "stdout"
        }
      ]
    },
    {
      "cell_type": "markdown",
      "metadata": {
        "id": "YrHLxRB-cxSe"
      },
      "source": [
        "**Lista Doblemente Enlzada**"
      ]
    },
    {
      "cell_type": "code",
      "metadata": {
        "id": "Uj-dCLw3Y2BC"
      },
      "source": [
        "class node_de:\r\n",
        "  def __init__ (self, cliente = None,next =None,previous=None):\r\n",
        "    self.cliente = cliente\r\n",
        "    self.next = next\r\n",
        "    self.previous = previous"
      ],
      "execution_count": 7,
      "outputs": []
    },
    {
      "cell_type": "code",
      "metadata": {
        "id": "YaLuv2SLZO0b"
      },
      "source": [
        "class linked_list_de:\r\n",
        "  def __init__(self,head = None):\r\n",
        "    self.head = head\r\n",
        "    self.last = head\r\n",
        "    self.size = 0\r\n",
        "\r\n",
        "  def insertar(self,cliente):\r\n",
        "    if self.size == 0:\r\n",
        "      self.head = node_de(cliente = cliente)\r\n",
        "      self.last = self.head\r\n",
        "    else:\r\n",
        "      new_node = node_de(cliente=cliente, next= self.head)\r\n",
        "      self.head.previous = new_node \r\n",
        "      self.head = new_node\r\n",
        "    self.size += 1\r\n",
        "\r\n",
        "  def imprimir(self):\r\n",
        "    if self.head is None:\r\n",
        "      return\r\n",
        "    node = self.head\r\n",
        "    print(node.cliente.nombre,end=\" -> \")\r\n",
        "    while node.next:\r\n",
        "      node = node.next\r\n",
        "      print(node.cliente.nombre,end=\" -> \")\r\n",
        "\r\n",
        "  def eliminar(self,no_habitacion):\r\n",
        "    node = self.head\r\n",
        "    while node is not None:\r\n",
        "      if node.cliente.no_habitacion == no_habitacion:\r\n",
        "        if node.previous is not None:\r\n",
        "          if node.next:\r\n",
        "            node.previous.next = node.next\r\n",
        "            node.next.previous = node.previous\r\n",
        "          else:\r\n",
        "            node.previous.next = None\r\n",
        "            self.last = node.previous\r\n",
        "        else:\r\n",
        "          self.head = node.next\r\n",
        "          node.next.previous = self.head\r\n",
        "        self.size -= 1\r\n",
        "        return True\r\n",
        "      else:\r\n",
        "        node = node.next\r\n",
        "    return False\r\n",
        "        \r\n",
        "\r\n"
      ],
      "execution_count": 8,
      "outputs": []
    },
    {
      "cell_type": "code",
      "metadata": {
        "id": "gn2aoYLdbams"
      },
      "source": [
        "c1 = cliente(\"Estuardo Zapeta\",101)\r\n",
        "c2 = cliente(\"Marco Lopez\",103)\r\n",
        "c3 = cliente(\"Josue Armas\",204)"
      ],
      "execution_count": 9,
      "outputs": []
    },
    {
      "cell_type": "code",
      "metadata": {
        "id": "Qi6qIB4_cjEF"
      },
      "source": [
        "lista_de = linked_list_de()\r\n",
        "\r\n",
        "lista_de.insertar(c1)\r\n",
        "lista_de.insertar(c2)\r\n",
        "lista_de.insertar(c3)"
      ],
      "execution_count": 10,
      "outputs": []
    },
    {
      "cell_type": "code",
      "metadata": {
        "colab": {
          "base_uri": "https://localhost:8080/"
        },
        "id": "RmtwJ2e6q7bc",
        "outputId": "b3f17c6e-651d-4286-b743-f0defe22e4e9"
      },
      "source": [
        "lista_de.eliminar(204)"
      ],
      "execution_count": 11,
      "outputs": [
        {
          "output_type": "execute_result",
          "data": {
            "text/plain": [
              "True"
            ]
          },
          "metadata": {
            "tags": []
          },
          "execution_count": 11
        }
      ]
    },
    {
      "cell_type": "code",
      "metadata": {
        "colab": {
          "base_uri": "https://localhost:8080/"
        },
        "id": "jNqp09ePphr4",
        "outputId": "aa027811-c5f0-4b60-a349-a0b337ba4c4b"
      },
      "source": [
        "lista_de.imprimir()"
      ],
      "execution_count": 12,
      "outputs": [
        {
          "output_type": "stream",
          "text": [
            "Marco Lopez -> Estuardo Zapeta -> "
          ],
          "name": "stdout"
        }
      ]
    },
    {
      "cell_type": "markdown",
      "metadata": {
        "id": "NKcAho6Gb_2g"
      },
      "source": [
        "**PILA LIFO**"
      ]
    },
    {
      "cell_type": "code",
      "metadata": {
        "id": "hZFCTivOb-vo"
      },
      "source": [
        "class Pila:\r\n",
        "  def __init__ (self):\r\n",
        "    self.pila = []\r\n",
        "  \r\n",
        "  def apilar(self,cliente):\r\n",
        "    self.pila.append(cliente)\r\n",
        "\r\n",
        "  def devolver_tamano(self):\r\n",
        "    return len(pila)\r\n",
        "\r\n",
        "  def imprimir(self):\r\n",
        "    for cliente in self.pila:\r\n",
        "      print(cliente.nombre,end=\" -->\")\r\n",
        "\r\n",
        "  def desapilar(self):\r\n",
        "    if self.pila:\r\n",
        "      self.pila.pop()\r\n"
      ],
      "execution_count": 31,
      "outputs": []
    },
    {
      "cell_type": "code",
      "metadata": {
        "id": "70sd5J73daMc"
      },
      "source": [
        "c1 = cliente(\"Estuardo Zapeta\",101)\r\n",
        "c2 = cliente(\"Marco Lopez\",103)\r\n",
        "c3 = cliente(\"Josue Armas\",204)\r\n",
        "c4 = cliente(\"Gladys Olmos\",302)"
      ],
      "execution_count": 32,
      "outputs": []
    },
    {
      "cell_type": "code",
      "metadata": {
        "colab": {
          "base_uri": "https://localhost:8080/"
        },
        "id": "Ub36_RI4dpvh",
        "outputId": "e5825cc9-c2c5-4341-d17a-90eac0abc15f"
      },
      "source": [
        "p = Pila()\r\n",
        "p.apilar(c1)\r\n",
        "p.apilar(c2)\r\n",
        "p.apilar(c3)\r\n",
        "p.apilar(c4)\r\n",
        "\r\n",
        "p.imprimir()"
      ],
      "execution_count": 33,
      "outputs": [
        {
          "output_type": "stream",
          "text": [
            "Estuardo Zapeta -->Marco Lopez -->Josue Armas -->Gladys Olmos -->"
          ],
          "name": "stdout"
        }
      ]
    },
    {
      "cell_type": "code",
      "metadata": {
        "colab": {
          "base_uri": "https://localhost:8080/"
        },
        "id": "_b1papgehUUP",
        "outputId": "59782ae3-beb3-491a-c4e0-6a459e5205d0"
      },
      "source": [
        "p.desapilar()\r\n",
        "p.imprimir()"
      ],
      "execution_count": 36,
      "outputs": [
        {
          "output_type": "stream",
          "text": [
            "Estuardo Zapeta -->"
          ],
          "name": "stdout"
        }
      ]
    },
    {
      "cell_type": "markdown",
      "metadata": {
        "id": "yAZOuE8khqpv"
      },
      "source": [
        "**COLA FIFO**"
      ]
    },
    {
      "cell_type": "code",
      "metadata": {
        "id": "RRGEzgURhuHI"
      },
      "source": [
        "class Cola:\r\n",
        "  def __init__ (self):\r\n",
        "    self.cola = []\r\n",
        "\r\n",
        "  def encolar(self,cliente):\r\n",
        "    self.cola.append(cliente)\r\n",
        "\r\n",
        "  def devolver_tamano(self):\r\n",
        "    return len(self.cola)\r\n",
        "  \r\n",
        "  def imprimir(self):\r\n",
        "    for cliente in self.cola:\r\n",
        "      print(cliente.nombre,end=\" <--\")\r\n",
        "\r\n",
        "  def desencolar(self):\r\n",
        "    if self.cola:\r\n",
        "      self.cola.pop(0)"
      ],
      "execution_count": 54,
      "outputs": []
    },
    {
      "cell_type": "code",
      "metadata": {
        "colab": {
          "base_uri": "https://localhost:8080/"
        },
        "id": "u-QeRUQQi2Tz",
        "outputId": "1c7854bc-f05d-4e1e-ce35-981e500d598f"
      },
      "source": [
        "c = Cola()\r\n",
        "\r\n",
        "c.encolar(c1)\r\n",
        "c.encolar(c2)\r\n",
        "c.encolar(c3)\r\n",
        "c.encolar(c4)\r\n",
        "\r\n",
        "#c.devolver_tamano()\r\n",
        "\r\n",
        "c.imprimir()"
      ],
      "execution_count": 55,
      "outputs": [
        {
          "output_type": "stream",
          "text": [
            "Estuardo Zapeta <--Marco Lopez <--Josue Armas <--Gladys Olmos <--"
          ],
          "name": "stdout"
        }
      ]
    },
    {
      "cell_type": "code",
      "metadata": {
        "colab": {
          "base_uri": "https://localhost:8080/"
        },
        "id": "2XZksKBJj8o8",
        "outputId": "e3dbf374-f875-49f5-c3f7-113cafa77f20"
      },
      "source": [
        "c.desencolar()\r\n",
        "c.imprimir()"
      ],
      "execution_count": 56,
      "outputs": [
        {
          "output_type": "stream",
          "text": [
            "Marco Lopez <--Josue Armas <--Gladys Olmos <--"
          ],
          "name": "stdout"
        }
      ]
    }
  ]
}