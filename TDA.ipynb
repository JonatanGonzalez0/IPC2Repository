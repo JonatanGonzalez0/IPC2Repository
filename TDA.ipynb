{
  "nbformat": 4,
  "nbformat_minor": 0,
  "metadata": {
    "colab": {
      "name": "Untitled0.ipynb",
      "provenance": [],
      "collapsed_sections": [],
      "authorship_tag": "ABX9TyP+aFBDtpPcGwYoa7fPi8vm",
      "include_colab_link": true
    },
    "kernelspec": {
      "name": "python3",
      "display_name": "Python 3"
    }
  },
  "cells": [
    {
      "cell_type": "markdown",
      "metadata": {
        "id": "view-in-github",
        "colab_type": "text"
      },
      "source": [
        "<a href=\"https://colab.research.google.com/github/JonatanGonzalez0/IPC2Repository/blob/master/TDA.ipynb\" target=\"_parent\"><img src=\"https://colab.research.google.com/assets/colab-badge.svg\" alt=\"Open In Colab\"/></a>"
      ]
    },
    {
      "cell_type": "code",
      "metadata": {
        "id": "fl5kCIeGq5LR"
      },
      "source": [
        "class cliente:\r\n",
        "  def __init__(self,nombre,no_habitacion):\r\n",
        "    self.nombre = nombre\r\n",
        "    self.no_habitacion = no_habitacion"
      ],
      "execution_count": 32,
      "outputs": []
    },
    {
      "cell_type": "code",
      "metadata": {
        "id": "npfXvc0wriTv"
      },
      "source": [
        "class node:\r\n",
        "  def __init__(self,cliente=None,next = None):\r\n",
        "    self.cliente = cliente\r\n",
        "    self.next = next"
      ],
      "execution_count": 33,
      "outputs": []
    },
    {
      "cell_type": "code",
      "metadata": {
        "id": "_R31l3QxtEXp"
      },
      "source": [
        "class linked_list:\r\n",
        "  def __init__(self):\r\n",
        "    self.head = None\r\n",
        "\r\n",
        "  def insertar(self,cliente):\r\n",
        "    if not self.head:\r\n",
        "      self.head = node(cliente=cliente)\r\n",
        "      return\r\n",
        "    current = self.head  \r\n",
        "    while current.next:\r\n",
        "      current= current.next\r\n",
        "    current.next = node(cliente=cliente)\r\n",
        "\r\n",
        "  def imprimir(self):\r\n",
        "    node = self.head\r\n",
        "    while node!=None:\r\n",
        "      print(node.cliente.nombre,end=\" => \")\r\n",
        "      node = node.next  \r\n",
        "  def eliminar(self,no_habitacion):\r\n",
        "    current = self.head\r\n",
        "    previous = None\r\n",
        "\r\n",
        "    while current and current.cliente.no_habitacion !=no_habitacion:\r\n",
        "      previous = current\r\n",
        "      current = current.next\r\n",
        "\r\n",
        "      if previous is None:\r\n",
        "        self.head = current.next\r\n",
        "      elif current:\r\n",
        "        previous.next = current.next\r\n",
        "        current.next =  None"
      ],
      "execution_count": 34,
      "outputs": []
    },
    {
      "cell_type": "code",
      "metadata": {
        "colab": {
          "base_uri": "https://localhost:8080/"
        },
        "id": "qxRX_YXvuHLu",
        "outputId": "1c01bda6-1438-4fcf-971f-e7f83ae12b00"
      },
      "source": [
        "c1 = cliente(\"Estuardo Zapeta\",101)\r\n",
        "c2 = cliente(\"Marco Lopez\",102)\r\n",
        "c3 = cliente(\"Josue Armas\",204)\r\n",
        "c4 = cliente(\"Gladys Olmos\",302)\r\n",
        "\r\n",
        "lista = linked_list()\r\n",
        "lista.insertar(c1)\r\n",
        "lista.insertar(c2)\r\n",
        "lista.insertar(c3)\r\n",
        "lista.insertar(c4)\r\n",
        "lista.imprimir()"
      ],
      "execution_count": 35,
      "outputs": [
        {
          "output_type": "stream",
          "text": [
            "Estuardo Zapeta => Marco Lopez => Josue Armas => Gladys Olmos => "
          ],
          "name": "stdout"
        }
      ]
    },
    {
      "cell_type": "markdown",
      "metadata": {
        "id": "bxs9NKZOv71n"
      },
      "source": [
        "**Listas Circulares**"
      ]
    }
  ]
}